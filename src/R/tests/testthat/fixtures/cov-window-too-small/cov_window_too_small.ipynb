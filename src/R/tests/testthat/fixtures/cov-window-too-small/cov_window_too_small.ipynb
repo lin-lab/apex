{
 "cells": [
  {
   "cell_type": "code",
   "execution_count": 590,
   "id": "4d4b0935-b52c-4c24-a857-f1ddb64781bc",
   "metadata": {},
   "outputs": [],
   "source": [
    "import numpy as np\n",
    "import pandas as pd\n",
    "import scipy.stats\n",
    "import statsmodels.formula.api as smf\n",
    "import matplotlib.pyplot as plt\n",
    "import random\n",
    "import string\n",
    "import os\n",
    "from subprocess import check_call"
   ]
  },
  {
   "cell_type": "code",
   "execution_count": 591,
   "id": "8b55924a-dae6-43d7-bbe3-9a69f84c4d3a",
   "metadata": {},
   "outputs": [
    {
     "data": {
      "text/plain": [
       "[<matplotlib.lines.Line2D at 0x138c6c3a0>]"
      ]
     },
     "execution_count": 591,
     "metadata": {},
     "output_type": "execute_result"
    },
    {
     "data": {
      "image/png": "[encoded data removed]",
      "text/plain": [
       "<Figure size 640x480 with 1 Axes>"
      ]
     },
     "metadata": {},
     "output_type": "display_data"
    }
   ],
   "source": [
    "def test():\n",
    "  x = np.arange(0, 1, 0.05)\n",
    "  beta = 5\n",
    "  alpha = 3\n",
    "  y = np.exp(beta*x-alpha) / (1 + np.exp(beta*x-alpha))\n",
    "  return plt.plot(x, y, 'g-')\n",
    "\n",
    "test()"
   ]
  },
  {
   "cell_type": "code",
   "execution_count": 592,
   "id": "82cb1958-aa08-4ab4-930f-c988c0b65ce0",
   "metadata": {},
   "outputs": [],
   "source": [
    "# Simulate phenotype. \n",
    "n_samples = 1000\n",
    "y = scipy.stats.norm.rvs(size=n_samples)\n",
    "y = y + np.abs(np.min(y)) + 0.05\n",
    "y_norm = y / np.max(y)"
   ]
  },
  {
   "cell_type": "code",
   "execution_count": 593,
   "id": "4ee11d1e-57ab-4446-bf7f-5ff08ccebe73",
   "metadata": {},
   "outputs": [
    {
     "name": "stderr",
     "output_type": "stream",
     "text": [
      "/Users/welchr/.pyenv/versions/3.9.15/lib/python3.9/site-packages/numpy/lib/function_base.py:2854: RuntimeWarning: invalid value encountered in divide\n",
      "  c /= stddev[:, None]\n",
      "/Users/welchr/.pyenv/versions/3.9.15/lib/python3.9/site-packages/numpy/lib/function_base.py:2855: RuntimeWarning: invalid value encountered in divide\n",
      "  c /= stddev[None, :]\n",
      "/Users/welchr/.pyenv/versions/3.9.15/lib/python3.9/site-packages/numpy/lib/function_base.py:2854: RuntimeWarning: invalid value encountered in divide\n",
      "  c /= stddev[:, None]\n",
      "/Users/welchr/.pyenv/versions/3.9.15/lib/python3.9/site-packages/numpy/lib/function_base.py:2855: RuntimeWarning: invalid value encountered in divide\n",
      "  c /= stddev[None, :]\n",
      "/Users/welchr/.pyenv/versions/3.9.15/lib/python3.9/site-packages/numpy/lib/function_base.py:2854: RuntimeWarning: invalid value encountered in divide\n",
      "  c /= stddev[:, None]\n",
      "/Users/welchr/.pyenv/versions/3.9.15/lib/python3.9/site-packages/numpy/lib/function_base.py:2855: RuntimeWarning: invalid value encountered in divide\n",
      "  c /= stddev[None, :]\n",
      "/Users/welchr/.pyenv/versions/3.9.15/lib/python3.9/site-packages/numpy/lib/function_base.py:2854: RuntimeWarning: invalid value encountered in divide\n",
      "  c /= stddev[:, None]\n",
      "/Users/welchr/.pyenv/versions/3.9.15/lib/python3.9/site-packages/numpy/lib/function_base.py:2855: RuntimeWarning: invalid value encountered in divide\n",
      "  c /= stddev[None, :]\n",
      "/Users/welchr/.pyenv/versions/3.9.15/lib/python3.9/site-packages/numpy/lib/function_base.py:2854: RuntimeWarning: invalid value encountered in divide\n",
      "  c /= stddev[:, None]\n",
      "/Users/welchr/.pyenv/versions/3.9.15/lib/python3.9/site-packages/numpy/lib/function_base.py:2855: RuntimeWarning: invalid value encountered in divide\n",
      "  c /= stddev[None, :]\n",
      "/Users/welchr/.pyenv/versions/3.9.15/lib/python3.9/site-packages/numpy/lib/function_base.py:2854: RuntimeWarning: invalid value encountered in divide\n",
      "  c /= stddev[:, None]\n",
      "/Users/welchr/.pyenv/versions/3.9.15/lib/python3.9/site-packages/numpy/lib/function_base.py:2854: RuntimeWarning: invalid value encountered in divide\n",
      "  c /= stddev[:, None]\n",
      "/Users/welchr/.pyenv/versions/3.9.15/lib/python3.9/site-packages/numpy/lib/function_base.py:2855: RuntimeWarning: invalid value encountered in divide\n",
      "  c /= stddev[None, :]\n"
     ]
    }
   ],
   "source": [
    "# From the phenotype, simulate a few variants that are strongly associated.\n",
    "n_signals = 2\n",
    "alpha = 3\n",
    "beta = 2.5\n",
    "\n",
    "while 1:\n",
    "  x = []\n",
    "  for _ in range(n_signals):\n",
    "    noise = scipy.stats.norm.rvs()\n",
    "    tmp = np.exp(beta * y_norm + noise - alpha) / (1 + np.exp(beta*y_norm + noise - alpha))\n",
    "    tmp = 2 - np.digitize(tmp, [0.33, 0.66])\n",
    "    x.append(tmp)\n",
    "\n",
    "  df = pd.DataFrame({\"y\": y, \"x1\": x[0], \"x2\": x[1]})\n",
    "  fitobj1 = smf.ols(\"y ~ x1\", data=df).fit()\n",
    "  fitobj2 = smf.ols(\"y ~ x2\", data=df).fit()\n",
    "\n",
    "  r2 = np.corrcoef(df[\"x1\"], df[\"x2\"])[0,1]\n",
    "  if not np.isnan(r2):\n",
    "    break"
   ]
  },
  {
   "cell_type": "code",
   "execution_count": 594,
   "id": "fbf3fc0c-6f55-495c-8d6a-0a689dc7c88b",
   "metadata": {},
   "outputs": [
    {
     "data": {
      "text/plain": [
       "array([[1.        , 0.85452429],\n",
       "       [0.85452429, 1.        ]])"
      ]
     },
     "execution_count": 594,
     "metadata": {},
     "output_type": "execute_result"
    }
   ],
   "source": [
    "np.corrcoef(df[\"x1\"], df[\"x2\"]) ** 2"
   ]
  },
  {
   "cell_type": "code",
   "execution_count": 595,
   "id": "24ea3f53-8207-47fc-9ccd-354ad566fff6",
   "metadata": {},
   "outputs": [
    {
     "data": {
      "text/plain": [
       "Intercept    2.617006e-76\n",
       "x1           1.575817e-35\n",
       "dtype: float64"
      ]
     },
     "execution_count": 595,
     "metadata": {},
     "output_type": "execute_result"
    }
   ],
   "source": [
    "fitobj1.pvalues"
   ]
  },
  {
   "cell_type": "code",
   "execution_count": 596,
   "id": "4a3554cf-9284-4bc8-a2d5-74aa07c6b3ec",
   "metadata": {},
   "outputs": [
    {
     "data": {
      "text/plain": [
       "Intercept    7.433205e-69\n",
       "x2           1.599495e-32\n",
       "dtype: float64"
      ]
     },
     "execution_count": 596,
     "metadata": {},
     "output_type": "execute_result"
    }
   ],
   "source": [
    "fitobj2.pvalues"
   ]
  },
  {
   "cell_type": "code",
   "execution_count": 597,
   "id": "1a7d17cc",
   "metadata": {},
   "outputs": [
    {
     "data": {
      "text/plain": [
       "Intercept    9.497730e-70\n",
       "x1           1.064630e-04\n",
       "x2           2.580949e-01\n",
       "dtype: float64"
      ]
     },
     "execution_count": 597,
     "metadata": {},
     "output_type": "execute_result"
    }
   ],
   "source": [
    "fitobj_both = smf.ols(\"y ~ x1 + x2\", data=df).fit().pvalues\n",
    "fitobj_both"
   ]
  },
  {
   "cell_type": "code",
   "execution_count": 598,
   "id": "e41b502a-954c-4ab4-a0d4-79682c65f94b",
   "metadata": {},
   "outputs": [],
   "source": [
    "def make_correlated_variant(variant, p):\n",
    "  v = variant.copy()\n",
    "  for i in range(len(v)):\n",
    "    roll = np.random.random()\n",
    "    if roll < (1 - p):\n",
    "      v[i] = random.choice([0, 1, 2])\n",
    "\n",
    "  return v"
   ]
  },
  {
   "cell_type": "code",
   "execution_count": 599,
   "id": "c2ddc821-0d80-4abb-991c-e8feb61d0922",
   "metadata": {},
   "outputs": [],
   "source": [
    "n_variants = 20\n",
    "dosages = np.zeros((n_samples, n_variants))\n",
    "#signal_pos = sorted(random.sample(range(1, n_variants + 1), 2))\n",
    "signal_pos = [2, 12]\n",
    "\n",
    "sigc = 0\n",
    "for i in range(1, n_variants + 1):\n",
    "  if i in signal_pos:\n",
    "    dosages[:, i-1] = x[sigc]\n",
    "    sigc += 1\n",
    "    #sigc = min(sigc, n_signals - 1)\n",
    "  else:\n",
    "    #v = make_correlated_variant(x[sigc], np.random.random())\n",
    "    v = np.random.randint(0, 3, size=n_samples)\n",
    "    dosages[:, i-1] = v"
   ]
  },
  {
   "cell_type": "code",
   "execution_count": 600,
   "id": "28d7cad9-28ef-4b86-802a-947d72a039a2",
   "metadata": {},
   "outputs": [
    {
     "name": "stdout",
     "output_type": "stream",
     "text": [
      "Signal positions: \n",
      "2\n",
      "12\n"
     ]
    }
   ],
   "source": [
    "print(\"Signal positions: \")\n",
    "for p in signal_pos:\n",
    "  print(p)"
   ]
  },
  {
   "cell_type": "code",
   "execution_count": 601,
   "id": "10a5bbe6-4333-4dfc-9f11-ac501713dd9c",
   "metadata": {},
   "outputs": [],
   "source": [
    "def write_vcf(dosages, positions, out):\n",
    "  header = [x.strip() for x in \"\"\"\n",
    "    ##fileformat=VCFv4.2\n",
    "    ##fileDate=20220217\n",
    "    ##FORMAT=<ID=DS,Number=1,Type=Float,Description=\"Dosage from minimac2\">\n",
    "  \"\"\".strip().split(\"\\n\")]\n",
    "\n",
    "  n_samples = dosages.shape[0]\n",
    "  with open(out, \"wt\") as fp:\n",
    "    for line in header:\n",
    "      print(line, file=fp)\n",
    "\n",
    "    print(\"\\t\".join(\"#CHROM POS ID REF ALT QUAL FILTER INFO FORMAT\".split()) + \"\\t\" + \"\\t\".join([f\"S{x+1}\" for x in range(n_samples)]), file=fp)\n",
    "\n",
    "    for col in range(dosages.shape[1]):\n",
    "      #ref, alt = random.sample([\"A\", \"C\", \"G\", \"T\"], 2)\n",
    "      ref, alt = (\"A\", \"G\")\n",
    "      vid = f\"1:{positions[col]}:{ref}:{alt}\"\n",
    "      fp.write(f\"1\\t{positions[col]}\\t{vid}\\t{ref}\\t{alt}\\t.\\tPASS\\t.\\tDS\\t\")\n",
    "      fp.write(\"\\t\".join((str(int(d)) for d in dosages[:,col])))\n",
    "      fp.write(\"\\n\")\n",
    "\n",
    "  gz_file = f\"{out}.gz\"\n",
    "  if os.path.isfile(gz_file):\n",
    "    check_call(f\"rm -f {gz_file}\", shell=True)\n",
    "\n",
    "  check_call(f\"bgzip {out}\", shell=True)\n",
    "  check_call(f\"tabix {out}.gz\", shell=True)"
   ]
  },
  {
   "cell_type": "code",
   "execution_count": 602,
   "id": "977c78ab-c433-498a-9a87-74c96be43578",
   "metadata": {},
   "outputs": [],
   "source": [
    "write_vcf(dosages, list(range(1, n_variants + 1)), \"ld_range_test_s1.vcf\")"
   ]
  },
  {
   "cell_type": "code",
   "execution_count": 603,
   "id": "a9e99c94",
   "metadata": {},
   "outputs": [],
   "source": [
    "noised_dosages = dosages.copy()\n",
    "for j in range(noised_dosages.shape[1]):\n",
    "  noised_dosages[np.random.randint(0, noised_dosages.shape[0], 50), j] = np.random.randint(0, 3, 50)"
   ]
  },
  {
   "cell_type": "code",
   "execution_count": 604,
   "id": "7e38138a",
   "metadata": {},
   "outputs": [],
   "source": [
    "write_vcf(noised_dosages, list(range(1, n_variants + 1)), \"ld_range_test_s2.vcf\")"
   ]
  },
  {
   "cell_type": "code",
   "execution_count": 605,
   "id": "32e866ec-594b-4773-a6a1-78036011f058",
   "metadata": {},
   "outputs": [
    {
     "name": "stdout",
     "output_type": "stream",
     "text": [
      "##fileformat=VCFv4.2\n",
      "##fileDate=20220217\n",
      "##FORMAT=<ID=DS,Number=1,Type=Float,Description=\"Dosage from minimac2\">\n",
      "#CHROM\tPOS\tID\tREF\tALT\tQUAL\tFILTER\tINFO\tFORMAT\tS1\tS2\tS3\tS4\tS5\tS6\n",
      "1\t1\t1:1:A:G\tA\tG\t.\tPASS\t.\tDS\t0\t0\t0\t2\t2\t2\n",
      "1\t2\t1:2:A:G\tA\tG\t.\tPASS\t.\tDS\t2\t2\t2\t2\t2\t2\n",
      "1\t3\t1:3:A:G\tA\tG\t.\tPASS\t.\tDS\t1\t0\t2\t2\t2\t2\n",
      "1\t4\t1:4:A:G\tA\tG\t.\tPASS\t.\tDS\t0\t0\t2\t1\t2\t0\n",
      "1\t5\t1:5:A:G\tA\tG\t.\tPASS\t.\tDS\t1\t2\t0\t2\t1\t0\n",
      "1\t6\t1:6:A:G\tA\tG\t.\tPASS\t.\tDS\t1\t1\t1\t0\t1\t0\n",
      "1\t7\t1:7:A:G\tA\tG\t.\tPASS\t.\tDS\t0\t0\t0\t2\t2\t1\n",
      "1\t8\t1:8:A:G\tA\tG\t.\tPASS\t.\tDS\t1\t0\t1\t2\t1\t0\n",
      "1\t9\t1:9:A:G\tA\tG\t.\tPASS\t.\tDS\t1\t1\t2\t1\t1\t1\n",
      "1\t10\t1:10:A:G\tA\tG\t.\tPASS\t.\tDS\t1\t1\t1\t0\t1\t1\n",
      "1\t11\t1:11:A:G\tA\tG\t.\tPASS\t.\tDS\t0\t1\t1\t0\t1\t1\n",
      "1\t12\t1:12:A:G\tA\tG\t.\tPASS\t.\tDS\t2\t2\t2\t2\t2\t2\n",
      "1\t13\t1:13:A:G\tA\tG\t.\tPASS\t.\tDS\t0\t1\t1\t1\t0\t0\n",
      "1\t14\t1:14:A:G\tA\tG\t.\tPASS\t.\tDS\t2\t2\t1\t2\t1\t1\n",
      "1\t15\t1:15:A:G\tA\tG\t.\tPASS\t.\tDS\t0\t0\t0\t1\t2\t1\n",
      "1\t16\t1:16:A:G\tA\tG\t.\tPASS\t.\tDS\t2\t2\t1\t0\t0\t1\n",
      "1\t17\t1:17:A:G\tA\tG\t.\tPASS\t.\tDS\t0\t1\t1\t2\t1\t1\n",
      "1\t18\t1:18:A:G\tA\tG\t.\tPASS\t.\tDS\t1\t1\t2\t0\t1\t1\n",
      "1\t19\t1:19:A:G\tA\tG\t.\tPASS\t.\tDS\t2\t0\t0\t2\t1\t0\n",
      "1\t20\t1:20:A:G\tA\tG\t.\tPASS\t.\tDS\t1\t2\t2\t1\t2\t2\n"
     ]
    }
   ],
   "source": [
    "%%bash\n",
    "gunzip -c ld_range_test_s1.vcf.gz | head -n 25 | cut -f 1-15"
   ]
  },
  {
   "cell_type": "code",
   "execution_count": 606,
   "id": "1dd7e85c-ea82-4b25-95da-d83858412ccd",
   "metadata": {},
   "outputs": [],
   "source": [
    "def rand_gene():\n",
    "  return \"\".join(random.sample(string.ascii_uppercase, 4)) + \"\".join(random.sample(string.digits, 1))"
   ]
  },
  {
   "cell_type": "code",
   "execution_count": 607,
   "id": "a8626fd7-d058-4f6c-8fc3-66a7e55df948",
   "metadata": {},
   "outputs": [],
   "source": [
    "def write_bed(gene, start, end, out, name=rand_gene()):\n",
    "  n_samples = len(gene)\n",
    "  with open(out, \"wt\") as fp:\n",
    "    print(\"\\t\".join([\"#chr\", \"start\", \"end\", \"gene_name\"]) + \"\\t\" + \"\\t\".join((f\"S{i+1}\" for i in range(n_samples))), file=fp)\n",
    "    fp.write(f\"1\\t{start}\\t{end}\\t{name}\\t\")\n",
    "    fp.write(\"\\t\".join(f\"{v:.3f}\" for v in gene))\n",
    "    fp.write(\"\\n\")\n",
    "\n",
    "    # write dummy gene\n",
    "    fp.write(\"1\\t14\\t16\\tABCD1\\t\")\n",
    "    fp.write(\"\\t\".join((f\"{s:.3f}\" for s in np.random.random(size=n_samples))))\n",
    "    fp.write(\"\\n\")\n",
    "\n",
    "    # write 2nd dummy gene so that AB1 script works!!!\n",
    "    fp.write(\"1\\t16\\t19\\tABCD2\\t\")\n",
    "    fp.write(\"\\t\".join((f\"{s:.3f}\" for s in np.random.random(size=n_samples))))\n",
    "    fp.write(\"\\n\")\n",
    "\n",
    "  check_call(f\"bgzip -c {out} > {out}.gz\", shell=True)\n",
    "  check_call(f\"tabix {out}.gz\", shell=True)"
   ]
  },
  {
   "cell_type": "code",
   "execution_count": 608,
   "id": "7c5f7be5-6e46-40ec-9106-c6204be4628f",
   "metadata": {},
   "outputs": [],
   "source": [
    "write_bed(y, 2, 13, \"ld_range_test_s1.bed\", \"YAR1\")"
   ]
  },
  {
   "cell_type": "code",
   "execution_count": 609,
   "id": "462749bb-b9e2-403e-a100-cff17a505258",
   "metadata": {},
   "outputs": [
    {
     "name": "stdout",
     "output_type": "stream",
     "text": [
      "#chr\tstart\tend\tgene_name\tS1\tS2\tS3\tS4\tS5\tS6\tS7\tS8\tS9\tS10\tS11\n",
      "1\t2\t13\tYAR1\t4.624\t2.732\t3.614\t4.095\t3.794\t1.525\t2.433\t3.928\t2.492\t2.993\t1.652\n",
      "1\t14\t16\tABCD1\t0.022\t0.876\t0.768\t0.430\t0.676\t0.083\t0.806\t0.786\t0.879\t0.281\t0.040\n",
      "1\t16\t19\tABCD2\t0.220\t0.087\t0.167\t0.601\t0.714\t0.558\t0.716\t0.760\t0.841\t0.999\t0.356\n"
     ]
    }
   ],
   "source": [
    "%%bash\n",
    "gunzip -c ld_range_test_s1.bed.gz | head -n 25 | cut -f 1-15"
   ]
  },
  {
   "cell_type": "code",
   "execution_count": 610,
   "id": "59918de8",
   "metadata": {},
   "outputs": [],
   "source": [
    "# Create a fake \"study 2\" bed file by noising some of the values\n",
    "noised_y = y.copy()\n",
    "noised_y[np.random.randint(0, len(y), 20)] = np.random.uniform(size=20)"
   ]
  },
  {
   "cell_type": "code",
   "execution_count": 611,
   "id": "f1611583",
   "metadata": {},
   "outputs": [],
   "source": [
    "write_bed(noised_y, 2, 13, \"ld_range_test_s2.bed\", \"YAR1\")"
   ]
  },
  {
   "cell_type": "code",
   "execution_count": 612,
   "id": "079a1624",
   "metadata": {},
   "outputs": [
    {
     "name": "stdout",
     "output_type": "stream",
     "text": [
      "#chr\tstart\tend\tgene_name\tS1\tS2\tS3\tS4\tS5\tS6\tS7\tS8\tS9\tS10\tS11\n",
      "1\t2\t13\tYAR1\t4.624\t2.732\t3.614\t4.095\t3.794\t1.525\t2.433\t3.928\t2.492\t2.993\t1.652\n",
      "1\t14\t16\tABCD1\t0.762\t0.649\t0.115\t0.443\t0.514\t0.363\t0.026\t0.778\t0.115\t0.110\t0.899\n",
      "1\t16\t19\tABCD2\t0.928\t0.070\t0.267\t0.756\t0.668\t0.131\t0.732\t0.816\t0.942\t0.875\t0.936\n"
     ]
    }
   ],
   "source": [
    "%%bash\n",
    "gunzip -c ld_range_test_s2.bed.gz | head -n 25 | cut -f 1-15"
   ]
  }
 ],
 "metadata": {
  "kernelspec": {
   "display_name": "Python 3 (ipykernel)",
   "language": "python",
   "name": "python3"
  },
  "language_info": {
   "codemirror_mode": {
    "name": "ipython",
    "version": 3
   },
   "file_extension": ".py",
   "mimetype": "text/x-python",
   "name": "python",
   "nbconvert_exporter": "python",
   "pygments_lexer": "ipython3",
   "version": "3.9.15"
  }
 },
 "nbformat": 4,
 "nbformat_minor": 5
}
